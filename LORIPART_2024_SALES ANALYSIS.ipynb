{
 "cells": [
  {
   "cell_type": "markdown",
   "id": "fd8fc891",
   "metadata": {},
   "source": [
    "Importing my modules"
   ]
  },
  {
   "cell_type": "code",
   "execution_count": 1,
   "id": "14bf03a9",
   "metadata": {},
   "outputs": [],
   "source": [
    "import pandas as pd\n",
    "import numpy as np\n",
    "import os \n",
    "import datetime as dt\n",
    "import matplotlib.pyplot as plt\n",
    "from numpy import random\n",
    "\n",
    "\n"
   ]
  },
  {
   "cell_type": "markdown",
   "id": "042fdd3d",
   "metadata": {},
   "source": [
    "Read my data"
   ]
  },
  {
   "cell_type": "code",
   "execution_count": 3,
   "id": "113276e5",
   "metadata": {},
   "outputs": [
    {
     "data": {
      "text/html": [
       "<div>\n",
       "<style scoped>\n",
       "    .dataframe tbody tr th:only-of-type {\n",
       "        vertical-align: middle;\n",
       "    }\n",
       "\n",
       "    .dataframe tbody tr th {\n",
       "        vertical-align: top;\n",
       "    }\n",
       "\n",
       "    .dataframe thead th {\n",
       "        text-align: right;\n",
       "    }\n",
       "</style>\n",
       "<table border=\"1\" class=\"dataframe\">\n",
       "  <thead>\n",
       "    <tr style=\"text-align: right;\">\n",
       "      <th></th>\n",
       "      <th>product</th>\n",
       "      <th>amount</th>\n",
       "    </tr>\n",
       "    <tr>\n",
       "      <th>date</th>\n",
       "      <th></th>\n",
       "      <th></th>\n",
       "    </tr>\n",
       "  </thead>\n",
       "  <tbody>\n",
       "    <tr>\n",
       "      <th>2024-01-02</th>\n",
       "      <td>pistons cxz</td>\n",
       "      <td>12000</td>\n",
       "    </tr>\n",
       "    <tr>\n",
       "      <th>2024-01-02</th>\n",
       "      <td>pinion fridge txd</td>\n",
       "      <td>5000</td>\n",
       "    </tr>\n",
       "    <tr>\n",
       "      <th>2024-01-02</th>\n",
       "      <td>springs txd</td>\n",
       "      <td>5600</td>\n",
       "    </tr>\n",
       "    <tr>\n",
       "      <th>2024-01-03</th>\n",
       "      <td>springs cxz</td>\n",
       "      <td>6000</td>\n",
       "    </tr>\n",
       "    <tr>\n",
       "      <th>2024-01-03</th>\n",
       "      <td>drum cxz</td>\n",
       "      <td>10000</td>\n",
       "    </tr>\n",
       "  </tbody>\n",
       "</table>\n",
       "</div>"
      ],
      "text/plain": [
       "                      product  amount\n",
       "date                                 \n",
       "2024-01-02        pistons cxz   12000\n",
       "2024-01-02  pinion fridge txd    5000\n",
       "2024-01-02        springs txd    5600\n",
       "2024-01-03        springs cxz    6000\n",
       "2024-01-03           drum cxz   10000"
      ]
     },
     "execution_count": 3,
     "metadata": {},
     "output_type": "execute_result"
    }
   ],
   "source": [
    "sales=pd.read_excel('Loripart 2024.xlsx',index_col='date')\n",
    "sales.head()"
   ]
  },
  {
   "cell_type": "markdown",
   "id": "70eeb489",
   "metadata": {},
   "source": [
    "Glimpse of my data"
   ]
  },
  {
   "cell_type": "code",
   "execution_count": 4,
   "id": "e1308e85",
   "metadata": {},
   "outputs": [
    {
     "data": {
      "text/plain": [
       "Index(['product', 'amount'], dtype='object')"
      ]
     },
     "execution_count": 4,
     "metadata": {},
     "output_type": "execute_result"
    }
   ],
   "source": [
    "sales.columns"
   ]
  },
  {
   "cell_type": "code",
   "execution_count": 5,
   "id": "f5557a28",
   "metadata": {},
   "outputs": [
    {
     "data": {
      "text/html": [
       "<div>\n",
       "<style scoped>\n",
       "    .dataframe tbody tr th:only-of-type {\n",
       "        vertical-align: middle;\n",
       "    }\n",
       "\n",
       "    .dataframe tbody tr th {\n",
       "        vertical-align: top;\n",
       "    }\n",
       "\n",
       "    .dataframe thead th {\n",
       "        text-align: right;\n",
       "    }\n",
       "</style>\n",
       "<table border=\"1\" class=\"dataframe\">\n",
       "  <thead>\n",
       "    <tr style=\"text-align: right;\">\n",
       "      <th></th>\n",
       "      <th>amount</th>\n",
       "    </tr>\n",
       "  </thead>\n",
       "  <tbody>\n",
       "    <tr>\n",
       "      <th>count</th>\n",
       "      <td>1990.000000</td>\n",
       "    </tr>\n",
       "    <tr>\n",
       "      <th>mean</th>\n",
       "      <td>5508.391960</td>\n",
       "    </tr>\n",
       "    <tr>\n",
       "      <th>std</th>\n",
       "      <td>7124.310798</td>\n",
       "    </tr>\n",
       "    <tr>\n",
       "      <th>min</th>\n",
       "      <td>200.000000</td>\n",
       "    </tr>\n",
       "    <tr>\n",
       "      <th>25%</th>\n",
       "      <td>2500.000000</td>\n",
       "    </tr>\n",
       "    <tr>\n",
       "      <th>50%</th>\n",
       "      <td>4000.000000</td>\n",
       "    </tr>\n",
       "    <tr>\n",
       "      <th>75%</th>\n",
       "      <td>6000.000000</td>\n",
       "    </tr>\n",
       "    <tr>\n",
       "      <th>max</th>\n",
       "      <td>90000.000000</td>\n",
       "    </tr>\n",
       "  </tbody>\n",
       "</table>\n",
       "</div>"
      ],
      "text/plain": [
       "             amount\n",
       "count   1990.000000\n",
       "mean    5508.391960\n",
       "std     7124.310798\n",
       "min      200.000000\n",
       "25%     2500.000000\n",
       "50%     4000.000000\n",
       "75%     6000.000000\n",
       "max    90000.000000"
      ]
     },
     "execution_count": 5,
     "metadata": {},
     "output_type": "execute_result"
    }
   ],
   "source": [
    "sales.describe()"
   ]
  },
  {
   "cell_type": "code",
   "execution_count": 6,
   "id": "7ba6a1c4",
   "metadata": {},
   "outputs": [
    {
     "name": "stdout",
     "output_type": "stream",
     "text": [
      "<class 'pandas.core.frame.DataFrame'>\n",
      "DatetimeIndex: 1990 entries, 2024-01-02 to 2024-12-31\n",
      "Data columns (total 2 columns):\n",
      " #   Column   Non-Null Count  Dtype \n",
      "---  ------   --------------  ----- \n",
      " 0   product  1990 non-null   object\n",
      " 1   amount   1990 non-null   int64 \n",
      "dtypes: int64(1), object(1)\n",
      "memory usage: 46.6+ KB\n"
     ]
    }
   ],
   "source": [
    "sales.info()"
   ]
  },
  {
   "cell_type": "markdown",
   "id": "79503e45",
   "metadata": {},
   "source": [
    "Checking for Missing Values"
   ]
  },
  {
   "cell_type": "code",
   "execution_count": 7,
   "id": "f594be26",
   "metadata": {},
   "outputs": [
    {
     "data": {
      "text/html": [
       "<div>\n",
       "<style scoped>\n",
       "    .dataframe tbody tr th:only-of-type {\n",
       "        vertical-align: middle;\n",
       "    }\n",
       "\n",
       "    .dataframe tbody tr th {\n",
       "        vertical-align: top;\n",
       "    }\n",
       "\n",
       "    .dataframe thead th {\n",
       "        text-align: right;\n",
       "    }\n",
       "</style>\n",
       "<table border=\"1\" class=\"dataframe\">\n",
       "  <thead>\n",
       "    <tr style=\"text-align: right;\">\n",
       "      <th></th>\n",
       "      <th>product</th>\n",
       "      <th>amount</th>\n",
       "    </tr>\n",
       "    <tr>\n",
       "      <th>date</th>\n",
       "      <th></th>\n",
       "      <th></th>\n",
       "    </tr>\n",
       "  </thead>\n",
       "  <tbody>\n",
       "    <tr>\n",
       "      <th>2024-01-02</th>\n",
       "      <td>False</td>\n",
       "      <td>False</td>\n",
       "    </tr>\n",
       "    <tr>\n",
       "      <th>2024-01-02</th>\n",
       "      <td>False</td>\n",
       "      <td>False</td>\n",
       "    </tr>\n",
       "    <tr>\n",
       "      <th>2024-01-02</th>\n",
       "      <td>False</td>\n",
       "      <td>False</td>\n",
       "    </tr>\n",
       "    <tr>\n",
       "      <th>2024-01-03</th>\n",
       "      <td>False</td>\n",
       "      <td>False</td>\n",
       "    </tr>\n",
       "    <tr>\n",
       "      <th>2024-01-03</th>\n",
       "      <td>False</td>\n",
       "      <td>False</td>\n",
       "    </tr>\n",
       "    <tr>\n",
       "      <th>...</th>\n",
       "      <td>...</td>\n",
       "      <td>...</td>\n",
       "    </tr>\n",
       "    <tr>\n",
       "      <th>2024-12-31</th>\n",
       "      <td>False</td>\n",
       "      <td>False</td>\n",
       "    </tr>\n",
       "    <tr>\n",
       "      <th>2024-12-31</th>\n",
       "      <td>False</td>\n",
       "      <td>False</td>\n",
       "    </tr>\n",
       "    <tr>\n",
       "      <th>2024-12-31</th>\n",
       "      <td>False</td>\n",
       "      <td>False</td>\n",
       "    </tr>\n",
       "    <tr>\n",
       "      <th>2024-12-31</th>\n",
       "      <td>False</td>\n",
       "      <td>False</td>\n",
       "    </tr>\n",
       "    <tr>\n",
       "      <th>2024-12-31</th>\n",
       "      <td>False</td>\n",
       "      <td>False</td>\n",
       "    </tr>\n",
       "  </tbody>\n",
       "</table>\n",
       "<p>1990 rows × 2 columns</p>\n",
       "</div>"
      ],
      "text/plain": [
       "            product  amount\n",
       "date                       \n",
       "2024-01-02    False   False\n",
       "2024-01-02    False   False\n",
       "2024-01-02    False   False\n",
       "2024-01-03    False   False\n",
       "2024-01-03    False   False\n",
       "...             ...     ...\n",
       "2024-12-31    False   False\n",
       "2024-12-31    False   False\n",
       "2024-12-31    False   False\n",
       "2024-12-31    False   False\n",
       "2024-12-31    False   False\n",
       "\n",
       "[1990 rows x 2 columns]"
      ]
     },
     "execution_count": 7,
     "metadata": {},
     "output_type": "execute_result"
    }
   ],
   "source": [
    "sales.isnull()"
   ]
  },
  {
   "cell_type": "markdown",
   "id": "2d0c700f",
   "metadata": {},
   "source": [
    "Compute Total sales per month"
   ]
  },
  {
   "cell_type": "code",
   "execution_count": 18,
   "id": "352683d7",
   "metadata": {},
   "outputs": [
    {
     "name": "stdout",
     "output_type": "stream",
     "text": [
      "date\n",
      "2024-01-31     622600\n",
      "2024-02-29     860100\n",
      "2024-03-31     780950\n",
      "2024-04-30    1054200\n",
      "2024-05-31     795500\n",
      "2024-06-30     974300\n",
      "2024-07-31    1059500\n",
      "2024-08-31    1076000\n",
      "2024-09-30    1045800\n",
      "2024-10-31     977300\n",
      "2024-11-30     901500\n",
      "2024-12-31     813950\n",
      "Freq: ME, Name: amount, dtype: int64\n"
     ]
    }
   ],
   "source": [
    "#using resample\n",
    "month_res=sales.resample('ME')\n",
    "tot_sales_per_month=month_res['amount'].sum()\n",
    "print(tot_sales_per_month)"
   ]
  },
  {
   "cell_type": "code",
   "execution_count": 17,
   "id": "cba04bc6",
   "metadata": {},
   "outputs": [
    {
     "data": {
      "text/plain": [
       "date\n",
       "2024-08-31    1076000\n",
       "2024-07-31    1059500\n",
       "2024-04-30    1054200\n",
       "2024-09-30    1045800\n",
       "2024-10-31     977300\n",
       "2024-06-30     974300\n",
       "2024-11-30     901500\n",
       "2024-02-29     860100\n",
       "2024-12-31     813950\n",
       "2024-05-31     795500\n",
       "2024-03-31     780950\n",
       "2024-01-31     622600\n",
       "Name: amount, dtype: int64"
      ]
     },
     "execution_count": 17,
     "metadata": {},
     "output_type": "execute_result"
    }
   ],
   "source": [
    "#sort values\n",
    "tot_sales_per_month.sort_values(ascending=False)"
   ]
  },
  {
   "cell_type": "code",
   "execution_count": 24,
   "id": "10e80b0e",
   "metadata": {},
   "outputs": [
    {
     "name": "stdout",
     "output_type": "stream",
     "text": [
      "                      product  amount  month\n",
      "date                                        \n",
      "2024-01-02        pistons cxz   12000      1\n",
      "2024-01-02  pinion fridge txd    5000      1\n",
      "2024-01-02        springs txd    5600      1\n",
      "2024-01-03        springs cxz    6000      1\n",
      "2024-01-03           drum cxz   10000      1\n"
     ]
    },
    {
     "data": {
      "text/plain": [
       "<matplotlib.legend.Legend at 0x25293bd5090>"
      ]
     },
     "execution_count": 24,
     "metadata": {},
     "output_type": "execute_result"
    },
    {
     "data": {
      "image/png": "[encoded data removed]",
      "text/plain": [
       "<Figure size 640x480 with 1 Axes>"
      ]
     },
     "metadata": {},
     "output_type": "display_data"
    }
   ],
   "source": [
    "##using groupby\n",
    "sales['month']=sales.index.month\n",
    "print(sales.head())\n",
    "\n",
    "month_grp=sales.groupby(['month'])\n",
    "tot_per_month=month_grp['amount'].sum()\n",
    "tot_per_month_plot=tot_per_month.plot(kind='bar',xlabel='Month',ylabel='Amount',title='TOTAL SALES PER MONTH',color='green')\n",
    "plt.legend()\n"
   ]
  },
  {
   "cell_type": "code",
   "execution_count": 22,
   "id": "c156e239",
   "metadata": {},
   "outputs": [
    {
     "data": {
      "text/plain": [
       "<function matplotlib.pyplot.legend(*args, **kwargs) -> 'Legend'>"
      ]
     },
     "execution_count": 22,
     "metadata": {},
     "output_type": "execute_result"
    },
    {
     "data": {
      "image/png": "[encoded data removed]",
      "text/plain": [
       "<Figure size 640x480 with 1 Axes>"
      ]
     },
     "metadata": {},
     "output_type": "display_data"
    }
   ],
   "source": [
    "##total sales per month in order\n",
    "tot_per_month_order=month_grp['amount'].sum().sort_values(ascending=False)\n",
    "tot_per_month_order_plot=tot_per_month_order.plot(kind='bar',xlabel='Month',ylabel='Amount',title='TOTAL SALES PER MONTH IN ORDER')\n",
    "plt.legend"
   ]
  },
  {
   "cell_type": "markdown",
   "id": "e9b82bc3",
   "metadata": {},
   "source": [
    "Maximum and Average sales per Month"
   ]
  },
  {
   "cell_type": "code",
   "execution_count": 25,
   "id": "d98e963f",
   "metadata": {},
   "outputs": [
    {
     "name": "stdout",
     "output_type": "stream",
     "text": [
      "month\n",
      "1     21000\n",
      "2     72000\n",
      "3     74000\n",
      "4     75000\n",
      "5     27000\n",
      "6     70000\n",
      "7     65000\n",
      "8     90000\n",
      "9     50000\n",
      "10    40000\n",
      "11    29500\n",
      "12    70000\n",
      "Name: amount, dtype: int64\n",
      "month\n",
      "1     4980.800000\n",
      "2     6667.441860\n",
      "3     5071.103896\n",
      "4     6981.456954\n",
      "5     4571.839080\n",
      "6     5473.595506\n",
      "7     5547.120419\n",
      "8     6044.943820\n",
      "9     5504.210526\n",
      "10    5282.702703\n",
      "11    5036.312849\n",
      "12    5217.628205\n",
      "Name: amount, dtype: float64\n"
     ]
    },
    {
     "data": {
      "text/plain": [
       "np.float64(5531.5963182225605)"
      ]
     },
     "execution_count": 25,
     "metadata": {},
     "output_type": "execute_result"
    }
   ],
   "source": [
    "max_per_month=month_grp['amount'].max()\n",
    "print(max_per_month)\n",
    "\n",
    "average_sales=month_grp['amount'].mean()\n",
    "print(average_sales)\n",
    "\n",
    "average_sales.mean()"
   ]
  },
  {
   "cell_type": "code",
   "execution_count": 28,
   "id": "f83ec1d0",
   "metadata": {},
   "outputs": [
    {
     "name": "stdout",
     "output_type": "stream",
     "text": [
      "10961700\n"
     ]
    },
    {
     "data": {
      "text/plain": [
       "np.float64(913475.0)"
      ]
     },
     "execution_count": 28,
     "metadata": {},
     "output_type": "execute_result"
    }
   ],
   "source": [
    "#annual average\n",
    "tots=sales['amount'].sum()\n",
    "print(tots)\n",
    "months=12\n",
    "average=tots/months\n",
    "average"
   ]
  },
  {
   "cell_type": "code",
   "execution_count": 27,
   "id": "bf7a0a0a",
   "metadata": {},
   "outputs": [
    {
     "data": {
      "text/html": [
       "<div>\n",
       "<style scoped>\n",
       "    .dataframe tbody tr th:only-of-type {\n",
       "        vertical-align: middle;\n",
       "    }\n",
       "\n",
       "    .dataframe tbody tr th {\n",
       "        vertical-align: top;\n",
       "    }\n",
       "\n",
       "    .dataframe thead th {\n",
       "        text-align: right;\n",
       "    }\n",
       "</style>\n",
       "<table border=\"1\" class=\"dataframe\">\n",
       "  <thead>\n",
       "    <tr style=\"text-align: right;\">\n",
       "      <th></th>\n",
       "      <th>product</th>\n",
       "      <th>amount</th>\n",
       "      <th>month</th>\n",
       "    </tr>\n",
       "    <tr>\n",
       "      <th>date</th>\n",
       "      <th></th>\n",
       "      <th></th>\n",
       "      <th></th>\n",
       "    </tr>\n",
       "  </thead>\n",
       "  <tbody>\n",
       "    <tr>\n",
       "      <th>2024-01-04</th>\n",
       "      <td>propeller cxz</td>\n",
       "      <td>21000</td>\n",
       "      <td>1</td>\n",
       "    </tr>\n",
       "    <tr>\n",
       "      <th>2024-02-03</th>\n",
       "      <td>front axle frr</td>\n",
       "      <td>40000</td>\n",
       "      <td>2</td>\n",
       "    </tr>\n",
       "    <tr>\n",
       "      <th>2024-02-13</th>\n",
       "      <td>diff frr</td>\n",
       "      <td>72000</td>\n",
       "      <td>2</td>\n",
       "    </tr>\n",
       "    <tr>\n",
       "      <th>2024-02-26</th>\n",
       "      <td>diff frr</td>\n",
       "      <td>65000</td>\n",
       "      <td>2</td>\n",
       "    </tr>\n",
       "    <tr>\n",
       "      <th>2024-03-07</th>\n",
       "      <td>front axle fh</td>\n",
       "      <td>74000</td>\n",
       "      <td>3</td>\n",
       "    </tr>\n",
       "    <tr>\n",
       "      <th>2024-03-23</th>\n",
       "      <td>hub + drum cxz</td>\n",
       "      <td>21000</td>\n",
       "      <td>3</td>\n",
       "    </tr>\n",
       "    <tr>\n",
       "      <th>2024-04-03</th>\n",
       "      <td>front axle frr</td>\n",
       "      <td>75000</td>\n",
       "      <td>4</td>\n",
       "    </tr>\n",
       "    <tr>\n",
       "      <th>2024-04-04</th>\n",
       "      <td>front axle cxz</td>\n",
       "      <td>40000</td>\n",
       "      <td>4</td>\n",
       "    </tr>\n",
       "    <tr>\n",
       "      <th>2024-04-13</th>\n",
       "      <td>gear box fvr bal</td>\n",
       "      <td>40000</td>\n",
       "      <td>4</td>\n",
       "    </tr>\n",
       "    <tr>\n",
       "      <th>2024-04-19</th>\n",
       "      <td>crown wheel cxz + cage</td>\n",
       "      <td>50000</td>\n",
       "      <td>4</td>\n",
       "    </tr>\n",
       "    <tr>\n",
       "      <th>2024-04-22</th>\n",
       "      <td>diff frr</td>\n",
       "      <td>75000</td>\n",
       "      <td>4</td>\n",
       "    </tr>\n",
       "    <tr>\n",
       "      <th>2024-05-30</th>\n",
       "      <td>hangers frr</td>\n",
       "      <td>27000</td>\n",
       "      <td>5</td>\n",
       "    </tr>\n",
       "    <tr>\n",
       "      <th>2024-06-20</th>\n",
       "      <td>diff cxz</td>\n",
       "      <td>70000</td>\n",
       "      <td>6</td>\n",
       "    </tr>\n",
       "    <tr>\n",
       "      <th>2024-07-26</th>\n",
       "      <td>diff frr</td>\n",
       "      <td>65000</td>\n",
       "      <td>7</td>\n",
       "    </tr>\n",
       "    <tr>\n",
       "      <th>2024-08-05</th>\n",
       "      <td>diff cxz</td>\n",
       "      <td>90000</td>\n",
       "      <td>8</td>\n",
       "    </tr>\n",
       "    <tr>\n",
       "      <th>2024-08-15</th>\n",
       "      <td>front axle frr</td>\n",
       "      <td>70000</td>\n",
       "      <td>8</td>\n",
       "    </tr>\n",
       "    <tr>\n",
       "      <th>2024-08-20</th>\n",
       "      <td>cylinder head fvr</td>\n",
       "      <td>65000</td>\n",
       "      <td>8</td>\n",
       "    </tr>\n",
       "    <tr>\n",
       "      <th>2024-09-06</th>\n",
       "      <td>propeller cxz</td>\n",
       "      <td>27000</td>\n",
       "      <td>9</td>\n",
       "    </tr>\n",
       "    <tr>\n",
       "      <th>2024-09-24</th>\n",
       "      <td>cage dqr</td>\n",
       "      <td>50000</td>\n",
       "      <td>9</td>\n",
       "    </tr>\n",
       "    <tr>\n",
       "      <th>2024-10-03</th>\n",
       "      <td>front axle fsr</td>\n",
       "      <td>40000</td>\n",
       "      <td>10</td>\n",
       "    </tr>\n",
       "    <tr>\n",
       "      <th>2024-11-03</th>\n",
       "      <td>cage cxz</td>\n",
       "      <td>29500</td>\n",
       "      <td>11</td>\n",
       "    </tr>\n",
       "    <tr>\n",
       "      <th>2024-12-30</th>\n",
       "      <td>boggy cxz</td>\n",
       "      <td>70000</td>\n",
       "      <td>12</td>\n",
       "    </tr>\n",
       "  </tbody>\n",
       "</table>\n",
       "</div>"
      ],
      "text/plain": [
       "                           product  amount  month\n",
       "date                                             \n",
       "2024-01-04           propeller cxz   21000      1\n",
       "2024-02-03          front axle frr   40000      2\n",
       "2024-02-13                diff frr   72000      2\n",
       "2024-02-26                diff frr   65000      2\n",
       "2024-03-07           front axle fh   74000      3\n",
       "2024-03-23          hub + drum cxz   21000      3\n",
       "2024-04-03          front axle frr   75000      4\n",
       "2024-04-04          front axle cxz   40000      4\n",
       "2024-04-13        gear box fvr bal   40000      4\n",
       "2024-04-19  crown wheel cxz + cage   50000      4\n",
       "2024-04-22                diff frr   75000      4\n",
       "2024-05-30             hangers frr   27000      5\n",
       "2024-06-20                diff cxz   70000      6\n",
       "2024-07-26                diff frr   65000      7\n",
       "2024-08-05                diff cxz   90000      8\n",
       "2024-08-15          front axle frr   70000      8\n",
       "2024-08-20       cylinder head fvr   65000      8\n",
       "2024-09-06           propeller cxz   27000      9\n",
       "2024-09-24                cage dqr   50000      9\n",
       "2024-10-03          front axle fsr   40000     10\n",
       "2024-11-03                cage cxz   29500     11\n",
       "2024-12-30               boggy cxz   70000     12"
      ]
     },
     "execution_count": 27,
     "metadata": {},
     "output_type": "execute_result"
    }
   ],
   "source": [
    "# max amount with associated product\n",
    "# Create a list of the max amounts\n",
    "max_amounts = [21000,72000,74000,75000,27000,70000,65000,90000,50000,40000,29500,70000]\n",
    "\n",
    "# Filter rows where 'amount' matches any of the max values\n",
    "# This assumes one unique max amount per month\n",
    "max_rows = sales[sales['amount'].isin(max_amounts)]\n",
    "max_rows\n",
    "\n",
    "# Optional: sort by month\n",
    "#max_rows = max_rows.sort_values(by='Month')\n",
    "\n",
    "#print(max_rows[['Month', 'Product', 'Amount']])\n"
   ]
  },
  {
   "cell_type": "markdown",
   "id": "ca44b857",
   "metadata": {},
   "source": [
    "Frequently sold Products"
   ]
  },
  {
   "cell_type": "code",
   "execution_count": 29,
   "id": "c982838a",
   "metadata": {},
   "outputs": [
    {
     "data": {
      "text/plain": [
       "product\n",
       "springs cxz          91\n",
       "bearing              72\n",
       "spring h frr         60\n",
       "springs txd          60\n",
       "spring h fh          58\n",
       "spring cxz           48\n",
       "spring txd           46\n",
       "spring f main cxz    42\n",
       "spring h txd         38\n",
       "jembe frr            37\n",
       "spring r main cxz    37\n",
       "hanger txd           36\n",
       "jembe txd            25\n",
       "axle frr             23\n",
       "gatembe fh           20\n",
       "spring f main txd    19\n",
       "hanger frr           19\n",
       "spring h fvr         18\n",
       "bearing              18\n",
       "rim txd              17\n",
       "spring r main txd    16\n",
       "spring h fsr         14\n",
       "spring seat cxz      14\n",
       "bearings             14\n",
       "adjuster cxz         14\n",
       "drum frr             13\n",
       "swinger txd          13\n",
       "springs frr          12\n",
       "universal cxz        12\n",
       "springs fvr          12\n",
       "gatembe txd          11\n",
       "shoe fsr             10\n",
       "gatembe cxz           9\n",
       "bearing txd           9\n",
       "axle fh               8\n",
       "springs fh            8\n",
       "bearing fsr           8\n",
       "spring fh             8\n",
       "hub frr rear          7\n",
       "axle txd              7\n",
       "drum cxz              7\n",
       "spring f main fh      7\n",
       "hub frr               7\n",
       "swinger fh            7\n",
       "cyclonizer txd        7\n",
       "universal cup cxz     7\n",
       "jembe nqr             7\n",
       "hanger cxz            6\n",
       "booster cxz           6\n",
       "springs h frr         6\n",
       "Name: count, dtype: int64"
      ]
     },
     "execution_count": 29,
     "metadata": {},
     "output_type": "execute_result"
    }
   ],
   "source": [
    "frequent_products=sales['product'].value_counts()\n",
    "frequent_products.head(50)\n"
   ]
  },
  {
   "cell_type": "code",
   "execution_count": 30,
   "id": "a159168a",
   "metadata": {},
   "outputs": [
    {
     "name": "stdout",
     "output_type": "stream",
     "text": [
      "spring        3035700\n",
      "springs       1142600\n",
      "axle frr       542500\n",
      "bearing        377100\n",
      "hanger txd     146000\n",
      "gatembe fh     135000\n",
      "jembe frr       98200\n",
      "jembe txd       73900\n",
      "dtype: int64\n"
     ]
    }
   ],
   "source": [
    "def frequent_sales_total(df, product):\n",
    "    \"\"\"\n",
    "    Calculate total sales amount for a specific product.\n",
    "\n",
    "    Parameters:\n",
    "    - df: pandas DataFrame with 'product' and 'amount' columns\n",
    "    - product: string or keyword to search in the 'product' column\n",
    "\n",
    "    Returns:\n",
    "    - Total amount generated by the brand\n",
    "    \"\"\"\n",
    "    products_dict={}\n",
    "    for product in products:\n",
    "        fil = df['product'].str.contains(product, case=False, na=False)\n",
    "        tots= df.loc[fil, 'amount'].sum()\n",
    "        products_dict[product]=tots\n",
    "    return pd.Series(products_dict).sort_values(ascending=False)\n",
    "\n",
    "products=['spring','springs','hanger txd','jembe frr','jembe txd','axle frr','gatembe fh','bearing']\n",
    "\n",
    "freq_sales=frequent_sales_total(sales,products)\n",
    "print(freq_sales)"
   ]
  },
  {
   "cell_type": "markdown",
   "id": "0a9aad63",
   "metadata": {},
   "source": [
    "Top selling Products"
   ]
  },
  {
   "cell_type": "code",
   "execution_count": 32,
   "id": "3538dc2c",
   "metadata": {},
   "outputs": [
    {
     "name": "stdout",
     "output_type": "stream",
     "text": [
      "product\n",
      "springs cxz          569200\n",
      "axle frr             312500\n",
      "diff frr             277000\n",
      "springs txd          261000\n",
      "spring r main cxz    244700\n",
      "                      ...  \n",
      "grease cup fh           500\n",
      "wheel nuts txd          300\n",
      "spring pin txd          200\n",
      "bajol                   200\n",
      "bolt                    200\n",
      "Name: amount, Length: 619, dtype: int64\n"
     ]
    },
    {
     "data": {
      "text/plain": [
       "product\n",
       "springs cxz          569200\n",
       "axle frr             312500\n",
       "diff frr             277000\n",
       "springs txd          261000\n",
       "spring r main cxz    244700\n",
       "spring f main cxz    204500\n",
       "front axle fh        194000\n",
       "front axle frr       185000\n",
       "spring cxz           183300\n",
       "spring h frr         177800\n",
       "Name: amount, dtype: int64"
      ]
     },
     "execution_count": 32,
     "metadata": {},
     "output_type": "execute_result"
    }
   ],
   "source": [
    "top_sales = sales.groupby('product')['amount'].sum().sort_values(ascending=False)\n",
    "print(top_sales)\n",
    "\n",
    "top_sales.head(10)"
   ]
  },
  {
   "cell_type": "markdown",
   "id": "a909b4ca",
   "metadata": {},
   "source": [
    "Best selling car brand"
   ]
  },
  {
   "cell_type": "code",
   "execution_count": 33,
   "id": "282d641c",
   "metadata": {},
   "outputs": [
    {
     "name": "stdout",
     "output_type": "stream",
     "text": [
      "cxz        525\n",
      "txd        458\n",
      "frr        330\n",
      "fh         204\n",
      "fuso        54\n",
      "fvz         24\n",
      "fighter     19\n",
      "nqr         14\n",
      "igogo        4\n",
      "tata         4\n",
      "faw          3\n",
      "canter       3\n",
      "toyota       2\n",
      "hino         2\n",
      "dtype: int64\n"
     ]
    }
   ],
   "source": [
    "def count_matching_strings(df, column, keywords):\n",
    "    \"\"\"\n",
    "    Count how many times each keyword appears in a column.\n",
    "\n",
    "    Parameters:\n",
    "    - df: pandas DataFrame\n",
    "    - column: name of the column to search\n",
    "    - keywords: list of strings to search for (case-insensitive)\n",
    "\n",
    "    Returns:\n",
    "    - pandas Series with keyword as index and counts as values\n",
    "    \"\"\"\n",
    "    counts = {}\n",
    "    for keyword in keywords:\n",
    "        match = df[column].str.contains(keyword, case=True, na=False)\n",
    "        counts[keyword] = match.sum()\n",
    "    return pd.Series(counts).sort_values(ascending=False)\n",
    "\n",
    "\n",
    "\n",
    "keywords=['txd','cxz','tata','frr','fh','igogo','toyota','nqr','fuso','fvz','fighter','canter','hino','faw']\n",
    "\n",
    "best_selling_brand=count_matching_strings(sales,'product',keywords)\n",
    "print(best_selling_brand)\n",
    "\n"
   ]
  },
  {
   "cell_type": "code",
   "execution_count": 34,
   "id": "cebdc66d",
   "metadata": {},
   "outputs": [
    {
     "data": {
      "text/plain": [
       "<Axes: title={'center': 'Best selling Vehicle Brand'}, xlabel='Vehicle Brand', ylabel='No of Entries'>"
      ]
     },
     "execution_count": 34,
     "metadata": {},
     "output_type": "execute_result"
    },
    {
     "data": {
      "image/png": "[encoded data removed]",
      "text/plain": [
       "<Figure size 640x480 with 1 Axes>"
      ]
     },
     "metadata": {},
     "output_type": "display_data"
    }
   ],
   "source": [
    "best_selling_brand_plot=best_selling_brand.plot(kind='bar',xlabel='Vehicle Brand',ylabel='No of Entries',title='Best selling Vehicle Brand',color='violet')\n",
    "#plt.legend()\n",
    "best_selling_brand_plot"
   ]
  },
  {
   "cell_type": "markdown",
   "id": "87f72f64",
   "metadata": {},
   "source": [
    "Best selling brand with the total amount sold"
   ]
  },
  {
   "cell_type": "code",
   "execution_count": 36,
   "id": "8798ef20",
   "metadata": {},
   "outputs": [
    {
     "name": "stdout",
     "output_type": "stream",
     "text": [
      "cxz        3500500\n",
      "frr        2128600\n",
      "txd        1743600\n",
      "fh         1078900\n",
      "fuso        367300\n",
      "fvz         195100\n",
      "fighter     124000\n",
      "nqr          52200\n",
      "igogo        29000\n",
      "faw          17000\n",
      "tata         12700\n",
      "toyota        7500\n",
      "canter        6300\n",
      "hino          5000\n",
      "dtype: int64\n",
      "Axes(0.125,0.11;0.775x0.77)\n"
     ]
    },
    {
     "data": {
      "image/png": "[encoded data removed]",
      "text/plain": [
       "<Figure size 640x480 with 1 Axes>"
      ]
     },
     "metadata": {},
     "output_type": "display_data"
    }
   ],
   "source": [
    "def brand_sales_total(df, brand_names):\n",
    "    \"\"\"\n",
    "    Calculate total sales amount for a specific brand.\n",
    "\n",
    "    Parameters:\n",
    "    - df: pandas DataFrame with 'product' and 'amount' columns\n",
    "    - brand_name: string or keyword to search in the 'product' column\n",
    "\n",
    "    Returns:\n",
    "    - Total amount generated by the brand\n",
    "    \"\"\"\n",
    "    brands={}\n",
    "    for brand_name in brand_names:\n",
    "        mask = df['product'].str.contains(brand_name, case=False, na=False)\n",
    "        total = df.loc[mask, 'amount'].sum()\n",
    "        brands[brand_name]=total\n",
    "    return pd.Series(brands).sort_values(ascending=False)\n",
    "\n",
    "brand_names=['txd','cxz','tata','frr','fh','igogo','toyota','nqr','fuso','fvz','fighter','canter','hino','faw']\n",
    "\n",
    "vbrand_sales=brand_sales_total(sales,brand_names)\n",
    "print(vbrand_sales)\n",
    "\n",
    "\n",
    "vbrand_sales_plot=vbrand_sales.plot(kind='bar',title='Total Revenue by Vehicle Brand',xlabel='Vehicle Brand',ylabel='Total Sales')\n",
    "print(vbrand_sales_plot)"
   ]
  },
  {
   "cell_type": "code",
   "execution_count": null,
   "id": "e704d2b7",
   "metadata": {},
   "outputs": [],
   "source": []
  }
 ],
 "metadata": {
  "kernelspec": {
   "display_name": "base",
   "language": "python",
   "name": "python3"
  },
  "language_info": {
   "codemirror_mode": {
    "name": "ipython",
    "version": 3
   },
   "file_extension": ".py",
   "mimetype": "text/x-python",
   "name": "python",
   "nbconvert_exporter": "python",
   "pygments_lexer": "ipython3",
   "version": "3.13.2"
  }
 },
 "nbformat": 4,
 "nbformat_minor": 5
}
